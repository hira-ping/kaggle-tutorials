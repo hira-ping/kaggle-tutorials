{
 "cells": [
  {
   "cell_type": "code",
   "execution_count": 1,
   "id": "eb1bf007",
   "metadata": {
    "_cell_guid": "b1076dfc-b9ad-4769-8c92-a6c4dae69d19",
    "_uuid": "8f2839f25d086af736a60e9eeb907d3b93b6e0e5",
    "execution": {
     "iopub.execute_input": "2025-09-28T07:32:38.498980Z",
     "iopub.status.busy": "2025-09-28T07:32:38.498582Z",
     "iopub.status.idle": "2025-09-28T07:32:40.564465Z",
     "shell.execute_reply": "2025-09-28T07:32:40.563338Z"
    },
    "papermill": {
     "duration": 2.072714,
     "end_time": "2025-09-28T07:32:40.566174",
     "exception": false,
     "start_time": "2025-09-28T07:32:38.493460",
     "status": "completed"
    },
    "tags": []
   },
   "outputs": [
    {
     "name": "stdout",
     "output_type": "stream",
     "text": [
      "/kaggle/input/titanic/train.csv\n",
      "/kaggle/input/titanic/test.csv\n",
      "/kaggle/input/titanic/gender_submission.csv\n"
     ]
    }
   ],
   "source": [
    "# This Python 3 environment comes with many helpful analytics libraries installed\n",
    "# It is defined by the kaggle/python Docker image: https://github.com/kaggle/docker-python\n",
    "# For example, here's several helpful packages to load\n",
    "\n",
    "import numpy as np # linear algebra\n",
    "import pandas as pd # data processing, CSV file I/O (e.g. pd.read_csv)\n",
    "\n",
    "# Input data files are available in the read-only \"../input/\" directory\n",
    "# For example, running this (by clicking run or pressing Shift+Enter) will list all files under the input directory\n",
    "\n",
    "import os\n",
    "for dirname, _, filenames in os.walk('/kaggle/input'):\n",
    "    for filename in filenames:\n",
    "        print(os.path.join(dirname, filename))\n",
    "\n",
    "# You can write up to 20GB to the current directory (/kaggle/working/) that gets preserved as output when you create a version using \"Save & Run All\" \n",
    "# You can also write temporary files to /kaggle/temp/, but they won't be saved outside of the current session"
   ]
  },
  {
   "cell_type": "code",
   "execution_count": 2,
   "id": "7e3901ff",
   "metadata": {
    "execution": {
     "iopub.execute_input": "2025-09-28T07:32:40.573795Z",
     "iopub.status.busy": "2025-09-28T07:32:40.573364Z",
     "iopub.status.idle": "2025-09-28T07:32:40.620364Z",
     "shell.execute_reply": "2025-09-28T07:32:40.619349Z"
    },
    "papermill": {
     "duration": 0.052546,
     "end_time": "2025-09-28T07:32:40.622003",
     "exception": false,
     "start_time": "2025-09-28T07:32:40.569457",
     "status": "completed"
    },
    "tags": []
   },
   "outputs": [],
   "source": [
    "import pandas as pd\n",
    "train_df = pd.read_csv('/kaggle/input/titanic/train.csv')\n",
    "test_df = pd.read_csv('/kaggle/input/titanic/test.csv')\n",
    "all_df = pd.concat([train_df, test_df], sort=False)\n",
    "# all_df.info()"
   ]
  },
  {
   "cell_type": "code",
   "execution_count": 3,
   "id": "c9cf77ab",
   "metadata": {
    "execution": {
     "iopub.execute_input": "2025-09-28T07:32:40.629833Z",
     "iopub.status.busy": "2025-09-28T07:32:40.628787Z",
     "iopub.status.idle": "2025-09-28T07:32:40.636221Z",
     "shell.execute_reply": "2025-09-28T07:32:40.635188Z"
    },
    "papermill": {
     "duration": 0.012811,
     "end_time": "2025-09-28T07:32:40.637794",
     "exception": false,
     "start_time": "2025-09-28T07:32:40.624983",
     "status": "completed"
    },
    "tags": []
   },
   "outputs": [],
   "source": [
    "age_median = all_df['Age'].median()\n",
    "all_df['Age'] = all_df['Age'].fillna(age_median)"
   ]
  },
  {
   "cell_type": "code",
   "execution_count": 4,
   "id": "56dce8f8",
   "metadata": {
    "execution": {
     "iopub.execute_input": "2025-09-28T07:32:40.644584Z",
     "iopub.status.busy": "2025-09-28T07:32:40.644311Z",
     "iopub.status.idle": "2025-09-28T07:32:40.650101Z",
     "shell.execute_reply": "2025-09-28T07:32:40.649202Z"
    },
    "papermill": {
     "duration": 0.011118,
     "end_time": "2025-09-28T07:32:40.651739",
     "exception": false,
     "start_time": "2025-09-28T07:32:40.640621",
     "status": "completed"
    },
    "tags": []
   },
   "outputs": [],
   "source": [
    "all_df['FamilySize'] = all_df['SibSp'] + all_df['Parch'] + 1"
   ]
  },
  {
   "cell_type": "code",
   "execution_count": 5,
   "id": "b35351e7",
   "metadata": {
    "execution": {
     "iopub.execute_input": "2025-09-28T07:32:40.658524Z",
     "iopub.status.busy": "2025-09-28T07:32:40.658203Z",
     "iopub.status.idle": "2025-09-28T07:32:40.669627Z",
     "shell.execute_reply": "2025-09-28T07:32:40.668698Z"
    },
    "papermill": {
     "duration": 0.016734,
     "end_time": "2025-09-28T07:32:40.671296",
     "exception": false,
     "start_time": "2025-09-28T07:32:40.654562",
     "status": "completed"
    },
    "tags": []
   },
   "outputs": [],
   "source": [
    "all_df['Title'] = all_df['Name'].str.extract(' ([A-Za-z]+)\\.', expand=False)\n",
    "title_mapping = {\"Mr\": 1, \"Miss\": 2, \"Mrs\": 3, \"Master\": 4, \"Rare\": 5}\n",
    "all_df['Title'] = all_df['Title'].map(title_mapping)\n",
    "all_df['Title'] = all_df['Title'].fillna(0)"
   ]
  },
  {
   "cell_type": "code",
   "execution_count": 6,
   "id": "8c15bbbf",
   "metadata": {
    "execution": {
     "iopub.execute_input": "2025-09-28T07:32:40.678287Z",
     "iopub.status.busy": "2025-09-28T07:32:40.677823Z",
     "iopub.status.idle": "2025-09-28T07:32:40.682808Z",
     "shell.execute_reply": "2025-09-28T07:32:40.681914Z"
    },
    "papermill": {
     "duration": 0.010598,
     "end_time": "2025-09-28T07:32:40.684679",
     "exception": false,
     "start_time": "2025-09-28T07:32:40.674081",
     "status": "completed"
    },
    "tags": []
   },
   "outputs": [],
   "source": [
    "train_processed_df = all_df[:len(train_df)]\n",
    "test_processed_df = all_df[len(train_df):]"
   ]
  },
  {
   "cell_type": "code",
   "execution_count": 7,
   "id": "fbd36212",
   "metadata": {
    "execution": {
     "iopub.execute_input": "2025-09-28T07:32:40.691595Z",
     "iopub.status.busy": "2025-09-28T07:32:40.691321Z",
     "iopub.status.idle": "2025-09-28T07:32:40.727934Z",
     "shell.execute_reply": "2025-09-28T07:32:40.726830Z"
    },
    "papermill": {
     "duration": 0.041975,
     "end_time": "2025-09-28T07:32:40.729550",
     "exception": false,
     "start_time": "2025-09-28T07:32:40.687575",
     "status": "completed"
    },
    "tags": []
   },
   "outputs": [
    {
     "data": {
      "text/html": [
       "<div>\n",
       "<style scoped>\n",
       "    .dataframe tbody tr th:only-of-type {\n",
       "        vertical-align: middle;\n",
       "    }\n",
       "\n",
       "    .dataframe tbody tr th {\n",
       "        vertical-align: top;\n",
       "    }\n",
       "\n",
       "    .dataframe thead th {\n",
       "        text-align: right;\n",
       "    }\n",
       "</style>\n",
       "<table border=\"1\" class=\"dataframe\">\n",
       "  <thead>\n",
       "    <tr style=\"text-align: right;\">\n",
       "      <th></th>\n",
       "      <th>PassengerId</th>\n",
       "      <th>Survived</th>\n",
       "      <th>Pclass</th>\n",
       "      <th>Name</th>\n",
       "      <th>Sex</th>\n",
       "      <th>Age</th>\n",
       "      <th>SibSp</th>\n",
       "      <th>Parch</th>\n",
       "      <th>Ticket</th>\n",
       "      <th>Fare</th>\n",
       "      <th>Cabin</th>\n",
       "      <th>Embarked</th>\n",
       "      <th>FamilySize</th>\n",
       "      <th>Title</th>\n",
       "      <th>Sex_female</th>\n",
       "      <th>Sex_male</th>\n",
       "    </tr>\n",
       "  </thead>\n",
       "  <tbody>\n",
       "    <tr>\n",
       "      <th>0</th>\n",
       "      <td>1</td>\n",
       "      <td>0.0</td>\n",
       "      <td>3</td>\n",
       "      <td>Braund, Mr. Owen Harris</td>\n",
       "      <td>male</td>\n",
       "      <td>22.0</td>\n",
       "      <td>1</td>\n",
       "      <td>0</td>\n",
       "      <td>A/5 21171</td>\n",
       "      <td>7.2500</td>\n",
       "      <td>NaN</td>\n",
       "      <td>S</td>\n",
       "      <td>2</td>\n",
       "      <td>1.0</td>\n",
       "      <td>False</td>\n",
       "      <td>True</td>\n",
       "    </tr>\n",
       "    <tr>\n",
       "      <th>1</th>\n",
       "      <td>2</td>\n",
       "      <td>1.0</td>\n",
       "      <td>1</td>\n",
       "      <td>Cumings, Mrs. John Bradley (Florence Briggs Th...</td>\n",
       "      <td>female</td>\n",
       "      <td>38.0</td>\n",
       "      <td>1</td>\n",
       "      <td>0</td>\n",
       "      <td>PC 17599</td>\n",
       "      <td>71.2833</td>\n",
       "      <td>C85</td>\n",
       "      <td>C</td>\n",
       "      <td>2</td>\n",
       "      <td>3.0</td>\n",
       "      <td>True</td>\n",
       "      <td>False</td>\n",
       "    </tr>\n",
       "    <tr>\n",
       "      <th>2</th>\n",
       "      <td>3</td>\n",
       "      <td>1.0</td>\n",
       "      <td>3</td>\n",
       "      <td>Heikkinen, Miss. Laina</td>\n",
       "      <td>female</td>\n",
       "      <td>26.0</td>\n",
       "      <td>0</td>\n",
       "      <td>0</td>\n",
       "      <td>STON/O2. 3101282</td>\n",
       "      <td>7.9250</td>\n",
       "      <td>NaN</td>\n",
       "      <td>S</td>\n",
       "      <td>1</td>\n",
       "      <td>2.0</td>\n",
       "      <td>True</td>\n",
       "      <td>False</td>\n",
       "    </tr>\n",
       "    <tr>\n",
       "      <th>3</th>\n",
       "      <td>4</td>\n",
       "      <td>1.0</td>\n",
       "      <td>1</td>\n",
       "      <td>Futrelle, Mrs. Jacques Heath (Lily May Peel)</td>\n",
       "      <td>female</td>\n",
       "      <td>35.0</td>\n",
       "      <td>1</td>\n",
       "      <td>0</td>\n",
       "      <td>113803</td>\n",
       "      <td>53.1000</td>\n",
       "      <td>C123</td>\n",
       "      <td>S</td>\n",
       "      <td>2</td>\n",
       "      <td>3.0</td>\n",
       "      <td>True</td>\n",
       "      <td>False</td>\n",
       "    </tr>\n",
       "    <tr>\n",
       "      <th>4</th>\n",
       "      <td>5</td>\n",
       "      <td>0.0</td>\n",
       "      <td>3</td>\n",
       "      <td>Allen, Mr. William Henry</td>\n",
       "      <td>male</td>\n",
       "      <td>35.0</td>\n",
       "      <td>0</td>\n",
       "      <td>0</td>\n",
       "      <td>373450</td>\n",
       "      <td>8.0500</td>\n",
       "      <td>NaN</td>\n",
       "      <td>S</td>\n",
       "      <td>1</td>\n",
       "      <td>1.0</td>\n",
       "      <td>False</td>\n",
       "      <td>True</td>\n",
       "    </tr>\n",
       "  </tbody>\n",
       "</table>\n",
       "</div>"
      ],
      "text/plain": [
       "   PassengerId  Survived  Pclass  \\\n",
       "0            1       0.0       3   \n",
       "1            2       1.0       1   \n",
       "2            3       1.0       3   \n",
       "3            4       1.0       1   \n",
       "4            5       0.0       3   \n",
       "\n",
       "                                                Name     Sex   Age  SibSp  \\\n",
       "0                            Braund, Mr. Owen Harris    male  22.0      1   \n",
       "1  Cumings, Mrs. John Bradley (Florence Briggs Th...  female  38.0      1   \n",
       "2                             Heikkinen, Miss. Laina  female  26.0      0   \n",
       "3       Futrelle, Mrs. Jacques Heath (Lily May Peel)  female  35.0      1   \n",
       "4                           Allen, Mr. William Henry    male  35.0      0   \n",
       "\n",
       "   Parch            Ticket     Fare Cabin Embarked  FamilySize  Title  \\\n",
       "0      0         A/5 21171   7.2500   NaN        S           2    1.0   \n",
       "1      0          PC 17599  71.2833   C85        C           2    3.0   \n",
       "2      0  STON/O2. 3101282   7.9250   NaN        S           1    2.0   \n",
       "3      0            113803  53.1000  C123        S           2    3.0   \n",
       "4      0            373450   8.0500   NaN        S           1    1.0   \n",
       "\n",
       "   Sex_female  Sex_male  \n",
       "0       False      True  \n",
       "1        True     False  \n",
       "2        True     False  \n",
       "3        True     False  \n",
       "4       False      True  "
      ]
     },
     "execution_count": 7,
     "metadata": {},
     "output_type": "execute_result"
    }
   ],
   "source": [
    "train_sex_dummies = pd.get_dummies(train_processed_df['Sex'],prefix='Sex')\n",
    "# train_sex_dummies.head()\n",
    "train_processed_df = pd.concat([train_processed_df, train_sex_dummies], axis = 1)\n",
    "train_processed_df.head()"
   ]
  },
  {
   "cell_type": "code",
   "execution_count": 8,
   "id": "caa36f69",
   "metadata": {
    "execution": {
     "iopub.execute_input": "2025-09-28T07:32:40.736619Z",
     "iopub.status.busy": "2025-09-28T07:32:40.736352Z",
     "iopub.status.idle": "2025-09-28T07:32:40.745423Z",
     "shell.execute_reply": "2025-09-28T07:32:40.744314Z"
    },
    "papermill": {
     "duration": 0.014383,
     "end_time": "2025-09-28T07:32:40.747074",
     "exception": false,
     "start_time": "2025-09-28T07:32:40.732691",
     "status": "completed"
    },
    "tags": []
   },
   "outputs": [],
   "source": [
    "features = ['Pclass', 'Age', 'FamilySize', 'Title', 'Sex_female', 'Sex_male']\n",
    "X_train = train_processed_df[features]\n",
    "y_train = train_processed_df['Survived']"
   ]
  },
  {
   "cell_type": "code",
   "execution_count": 9,
   "id": "cfa0c226",
   "metadata": {
    "execution": {
     "iopub.execute_input": "2025-09-28T07:32:40.754904Z",
     "iopub.status.busy": "2025-09-28T07:32:40.754045Z",
     "iopub.status.idle": "2025-09-28T07:32:43.370797Z",
     "shell.execute_reply": "2025-09-28T07:32:43.369712Z"
    },
    "papermill": {
     "duration": 2.622341,
     "end_time": "2025-09-28T07:32:43.372559",
     "exception": false,
     "start_time": "2025-09-28T07:32:40.750218",
     "status": "completed"
    },
    "tags": []
   },
   "outputs": [
    {
     "data": {
      "text/html": [
       "<style>#sk-container-id-1 {color: black;background-color: white;}#sk-container-id-1 pre{padding: 0;}#sk-container-id-1 div.sk-toggleable {background-color: white;}#sk-container-id-1 label.sk-toggleable__label {cursor: pointer;display: block;width: 100%;margin-bottom: 0;padding: 0.3em;box-sizing: border-box;text-align: center;}#sk-container-id-1 label.sk-toggleable__label-arrow:before {content: \"▸\";float: left;margin-right: 0.25em;color: #696969;}#sk-container-id-1 label.sk-toggleable__label-arrow:hover:before {color: black;}#sk-container-id-1 div.sk-estimator:hover label.sk-toggleable__label-arrow:before {color: black;}#sk-container-id-1 div.sk-toggleable__content {max-height: 0;max-width: 0;overflow: hidden;text-align: left;background-color: #f0f8ff;}#sk-container-id-1 div.sk-toggleable__content pre {margin: 0.2em;color: black;border-radius: 0.25em;background-color: #f0f8ff;}#sk-container-id-1 input.sk-toggleable__control:checked~div.sk-toggleable__content {max-height: 200px;max-width: 100%;overflow: auto;}#sk-container-id-1 input.sk-toggleable__control:checked~label.sk-toggleable__label-arrow:before {content: \"▾\";}#sk-container-id-1 div.sk-estimator input.sk-toggleable__control:checked~label.sk-toggleable__label {background-color: #d4ebff;}#sk-container-id-1 div.sk-label input.sk-toggleable__control:checked~label.sk-toggleable__label {background-color: #d4ebff;}#sk-container-id-1 input.sk-hidden--visually {border: 0;clip: rect(1px 1px 1px 1px);clip: rect(1px, 1px, 1px, 1px);height: 1px;margin: -1px;overflow: hidden;padding: 0;position: absolute;width: 1px;}#sk-container-id-1 div.sk-estimator {font-family: monospace;background-color: #f0f8ff;border: 1px dotted black;border-radius: 0.25em;box-sizing: border-box;margin-bottom: 0.5em;}#sk-container-id-1 div.sk-estimator:hover {background-color: #d4ebff;}#sk-container-id-1 div.sk-parallel-item::after {content: \"\";width: 100%;border-bottom: 1px solid gray;flex-grow: 1;}#sk-container-id-1 div.sk-label:hover label.sk-toggleable__label {background-color: #d4ebff;}#sk-container-id-1 div.sk-serial::before {content: \"\";position: absolute;border-left: 1px solid gray;box-sizing: border-box;top: 0;bottom: 0;left: 50%;z-index: 0;}#sk-container-id-1 div.sk-serial {display: flex;flex-direction: column;align-items: center;background-color: white;padding-right: 0.2em;padding-left: 0.2em;position: relative;}#sk-container-id-1 div.sk-item {position: relative;z-index: 1;}#sk-container-id-1 div.sk-parallel {display: flex;align-items: stretch;justify-content: center;background-color: white;position: relative;}#sk-container-id-1 div.sk-item::before, #sk-container-id-1 div.sk-parallel-item::before {content: \"\";position: absolute;border-left: 1px solid gray;box-sizing: border-box;top: 0;bottom: 0;left: 50%;z-index: -1;}#sk-container-id-1 div.sk-parallel-item {display: flex;flex-direction: column;z-index: 1;position: relative;background-color: white;}#sk-container-id-1 div.sk-parallel-item:first-child::after {align-self: flex-end;width: 50%;}#sk-container-id-1 div.sk-parallel-item:last-child::after {align-self: flex-start;width: 50%;}#sk-container-id-1 div.sk-parallel-item:only-child::after {width: 0;}#sk-container-id-1 div.sk-dashed-wrapped {border: 1px dashed gray;margin: 0 0.4em 0.5em 0.4em;box-sizing: border-box;padding-bottom: 0.4em;background-color: white;}#sk-container-id-1 div.sk-label label {font-family: monospace;font-weight: bold;display: inline-block;line-height: 1.2em;}#sk-container-id-1 div.sk-label-container {text-align: center;}#sk-container-id-1 div.sk-container {/* jupyter's `normalize.less` sets `[hidden] { display: none; }` but bootstrap.min.css set `[hidden] { display: none !important; }` so we also need the `!important` here to be able to override the default hidden behavior on the sphinx rendered scikit-learn.org. See: https://github.com/scikit-learn/scikit-learn/issues/21755 */display: inline-block !important;position: relative;}#sk-container-id-1 div.sk-text-repr-fallback {display: none;}</style><div id=\"sk-container-id-1\" class=\"sk-top-container\"><div class=\"sk-text-repr-fallback\"><pre>RandomForestClassifier(max_depth=6, n_estimators=200, random_state=1)</pre><b>In a Jupyter environment, please rerun this cell to show the HTML representation or trust the notebook. <br />On GitHub, the HTML representation is unable to render, please try loading this page with nbviewer.org.</b></div><div class=\"sk-container\" hidden><div class=\"sk-item\"><div class=\"sk-estimator sk-toggleable\"><input class=\"sk-toggleable__control sk-hidden--visually\" id=\"sk-estimator-id-1\" type=\"checkbox\" checked><label for=\"sk-estimator-id-1\" class=\"sk-toggleable__label sk-toggleable__label-arrow\">RandomForestClassifier</label><div class=\"sk-toggleable__content\"><pre>RandomForestClassifier(max_depth=6, n_estimators=200, random_state=1)</pre></div></div></div></div></div>"
      ],
      "text/plain": [
       "RandomForestClassifier(max_depth=6, n_estimators=200, random_state=1)"
      ]
     },
     "execution_count": 9,
     "metadata": {},
     "output_type": "execute_result"
    }
   ],
   "source": [
    "## from sklearn.ensemble import RandomForestClassifier\n",
    "## model = RandomForestClassifier(n_estimators=100, max_depth=5, random_state=1)\n",
    "## model.fit(X_train, y_train)\n",
    "\n",
    "##overfitting(->bad score)\n",
    "#from sklearn.tree import DecisionTreeClassifier\n",
    "#model = DecisionTreeClassifier()\n",
    "#model.fit(X_train,y_train)\n",
    "\n",
    "from sklearn.ensemble import RandomForestClassifier\n",
    "model = RandomForestClassifier(n_estimators=200, max_depth=6, random_state=1)\n",
    "model.fit(X_train, y_train)"
   ]
  },
  {
   "cell_type": "code",
   "execution_count": 10,
   "id": "cbf6f5f8",
   "metadata": {
    "execution": {
     "iopub.execute_input": "2025-09-28T07:32:43.380833Z",
     "iopub.status.busy": "2025-09-28T07:32:43.379893Z",
     "iopub.status.idle": "2025-09-28T07:32:43.409282Z",
     "shell.execute_reply": "2025-09-28T07:32:43.408204Z"
    },
    "papermill": {
     "duration": 0.035077,
     "end_time": "2025-09-28T07:32:43.410948",
     "exception": false,
     "start_time": "2025-09-28T07:32:43.375871",
     "status": "completed"
    },
    "tags": []
   },
   "outputs": [],
   "source": [
    "test_sex_dummies = pd.get_dummies(test_processed_df['Sex'], prefix='Sex')\n",
    "test_processed_df = pd.concat([test_processed_df, test_sex_dummies], axis=1)\n",
    "X_test = test_processed_df[features]\n",
    "\n",
    "predictions = model.predict(X_test)"
   ]
  },
  {
   "cell_type": "code",
   "execution_count": 11,
   "id": "dbc29234",
   "metadata": {
    "execution": {
     "iopub.execute_input": "2025-09-28T07:32:43.418470Z",
     "iopub.status.busy": "2025-09-28T07:32:43.418165Z",
     "iopub.status.idle": "2025-09-28T07:32:43.430148Z",
     "shell.execute_reply": "2025-09-28T07:32:43.428923Z"
    },
    "papermill": {
     "duration": 0.017557,
     "end_time": "2025-09-28T07:32:43.431756",
     "exception": false,
     "start_time": "2025-09-28T07:32:43.414199",
     "status": "completed"
    },
    "tags": []
   },
   "outputs": [
    {
     "name": "stdout",
     "output_type": "stream",
     "text": [
      "Successfully created submission_v2.csv!\n"
     ]
    }
   ],
   "source": [
    "submission = pd.DataFrame({\n",
    "    \"PassengerId\": test_df[\"PassengerId\"],\n",
    "    \"Survived\": predictions.astype(int) # 念のため整数に変換\n",
    "})\n",
    "submission.to_csv('submission_v2.csv', index=False)\n",
    "\n",
    "print(\"Successfully created submission_v2.csv!\")"
   ]
  }
 ],
 "metadata": {
  "kaggle": {
   "accelerator": "none",
   "dataSources": [
    {
     "databundleVersionId": 26502,
     "sourceId": 3136,
     "sourceType": "competition"
    }
   ],
   "dockerImageVersionId": 31089,
   "isGpuEnabled": false,
   "isInternetEnabled": false,
   "language": "python",
   "sourceType": "notebook"
  },
  "kernelspec": {
   "display_name": "Python 3",
   "language": "python",
   "name": "python3"
  },
  "language_info": {
   "codemirror_mode": {
    "name": "ipython",
    "version": 3
   },
   "file_extension": ".py",
   "mimetype": "text/x-python",
   "name": "python",
   "nbconvert_exporter": "python",
   "pygments_lexer": "ipython3",
   "version": "3.11.13"
  },
  "papermill": {
   "default_parameters": {},
   "duration": 11.846876,
   "end_time": "2025-09-28T07:32:44.156691",
   "environment_variables": {},
   "exception": null,
   "input_path": "__notebook__.ipynb",
   "output_path": "__notebook__.ipynb",
   "parameters": {},
   "start_time": "2025-09-28T07:32:32.309815",
   "version": "2.6.0"
  }
 },
 "nbformat": 4,
 "nbformat_minor": 5
}
